{
 "cells": [
  {
   "cell_type": "markdown",
   "metadata": {},
   "source": [
    "### Игра \"Определитель\""
   ]
  },
  {
   "cell_type": "code",
   "execution_count": 605,
   "metadata": {},
   "outputs": [],
   "source": [
    "import numpy as np\n",
    "import math\n",
    "import random as rand\n",
    "from itertools import permutations"
   ]
  },
  {
   "cell_type": "code",
   "execution_count": 117,
   "metadata": {},
   "outputs": [],
   "source": [
    "def game():\n",
    "    a = (0,0,0,0,0,0,0,0,0)\n",
    "    zeros = np.reshape(a, (3,3))\n",
    "    mat = zeros\n",
    "    used = []\n",
    "    vals = np.arange(1,10)\n",
    "    vals = list(vals)\n",
    "    \n",
    "    for Round in range(1,5):\n",
    "        print('Какое число вводишь?')\n",
    "        num = int(input())\n",
    "        print('В какую строку (1-3)?')\n",
    "        y = int(input())\n",
    "        print('В какой столбец (1-3)?')\n",
    "        x = int(input())\n",
    "        mat[y-1][x-1] = num # insert number into the matrix\n",
    "        print('Вы сделали ход: сейчас состояние игры такое:\\n', mat)\n",
    "    \n",
    "        vals.remove(num) \n",
    "        used.append(num) # num is USED NOW\n",
    "    \n",
    "        print('Выбираю из следующих значений:', vals)\n",
    "    \n",
    "        val = rand.choice(vals) # selection of random number for new turn\n",
    "        row = [0, 1, 2]\n",
    "        col = [0, 1, 2]\n",
    "\n",
    "        a = x-1\n",
    "        b = y-1\n",
    "        while (mat[b][a]!=0):\n",
    "            a = rand.choice(row)\n",
    "            b = rand.choice(col) \n",
    "        mat[b][a] = val  # selection of random position for new turn\n",
    "        vals.remove(val) # this value is USED NOW\n",
    "        used.append(val)\n",
    "    \n",
    "        print('В свой', Round, 'ход я ставлю', val, 'вот так:\\n', mat)\n",
    "    i, j = np.where(mat==0)\n",
    "    mat[i,j] = vals[0] # put last number into the matrix\n",
    "    print('Результат игры: \\n', mat)\n",
    "    score = int(round(np.linalg.det(mat)))\n",
    "    print('Итоговый счёт:', score) # calculate determinant (if >0, first player wins, if <0, second player wins)\n",
    "    if score > 0:\n",
    "        print('Первый игрок победил!')\n",
    "    elif score < 0:\n",
    "        print('Второй игрок победил!')\n",
    "    else: print('Ничья!!!')"
   ]
  },
  {
   "cell_type": "code",
   "execution_count": 118,
   "metadata": {
    "collapsed": true
   },
   "outputs": [
    {
     "name": "stdout",
     "output_type": "stream",
     "text": [
      "Какое число вводишь?\n",
      "3\n",
      "В какую строку (1-3)?\n",
      "3\n",
      "В какой столбец (1-3)?\n",
      "3\n",
      "Вы сделали ход: сейчас состояние игры такое:\n",
      " [[0 0 0]\n",
      " [0 0 0]\n",
      " [0 0 3]]\n",
      "Выбираю из следующих значений: [1, 2, 4, 5, 6, 7, 8, 9]\n",
      "В свой 1 ход я ставлю 1 вот так:\n",
      " [[0 0 0]\n",
      " [0 0 0]\n",
      " [0 1 3]]\n",
      "Какое число вводишь?\n",
      "2\n",
      "В какую строку (1-3)?\n",
      "1\n",
      "В какой столбец (1-3)?\n",
      "1\n",
      "Вы сделали ход: сейчас состояние игры такое:\n",
      " [[2 0 0]\n",
      " [0 0 0]\n",
      " [0 1 3]]\n",
      "Выбираю из следующих значений: [4, 5, 6, 7, 8, 9]\n",
      "В свой 2 ход я ставлю 6 вот так:\n",
      " [[2 0 0]\n",
      " [0 6 0]\n",
      " [0 1 3]]\n",
      "Какое число вводишь?\n",
      "4\n",
      "В какую строку (1-3)?\n",
      "2\n",
      "В какой столбец (1-3)?\n",
      "3\n",
      "Вы сделали ход: сейчас состояние игры такое:\n",
      " [[2 0 0]\n",
      " [0 6 4]\n",
      " [0 1 3]]\n",
      "Выбираю из следующих значений: [5, 7, 8, 9]\n",
      "В свой 3 ход я ставлю 9 вот так:\n",
      " [[2 9 0]\n",
      " [0 6 4]\n",
      " [0 1 3]]\n",
      "Какое число вводишь?\n",
      "5\n",
      "В какую строку (1-3)?\n",
      "2\n",
      "В какой столбец (1-3)?\n",
      "1\n",
      "Вы сделали ход: сейчас состояние игры такое:\n",
      " [[2 9 0]\n",
      " [5 6 4]\n",
      " [0 1 3]]\n",
      "Выбираю из следующих значений: [7, 8]\n",
      "В свой 4 ход я ставлю 7 вот так:\n",
      " [[2 9 7]\n",
      " [5 6 4]\n",
      " [0 1 3]]\n",
      "Результат игры: \n",
      " [[2 9 7]\n",
      " [5 6 4]\n",
      " [8 1 3]]\n",
      "Итоговый счёт: -120\n",
      "Второй игрок победил!\n"
     ]
    }
   ],
   "source": [
    "game()"
   ]
  },
  {
   "cell_type": "code",
   "execution_count": 474,
   "metadata": {},
   "outputs": [],
   "source": [
    "perm = permutations([1, 2, 3, 4, 5, 6, 7, 8, 9])\n",
    "matr9 = []\n",
    "l = 362880 # 9!\n",
    "for permut in list(perm):\n",
    "    matr9.append(np.reshape(permut, (3,3)))"
   ]
  },
  {
   "cell_type": "code",
   "execution_count": 483,
   "metadata": {},
   "outputs": [],
   "source": [
    "perm = permutations([1, 2, 3, 4, 5, 6, 7, 8, 9])\n",
    "matr8 = []\n",
    "l = 362880 # 9!\n",
    "# l8 = 3265920 # 9*9!\n",
    "for permut in list(perm):\n",
    "    for i in range(0,9):\n",
    "        b = np.reshape(permut, (3,3))\n",
    "        b[i//3][i%3] = 0\n",
    "        matr8.append(b)"
   ]
  },
  {
   "cell_type": "code",
   "execution_count": 533,
   "metadata": {},
   "outputs": [],
   "source": [
    "perm = permutations([1, 2, 3, 4, 5, 6, 7, 8, 9])\n",
    "matr7 = []\n",
    "# l7 = 13063680 # 4*9*9!\n",
    "for permut in list(perm):\n",
    "    for i in range(0,8):\n",
    "        for j in range(i+1,9):\n",
    "            b = np.reshape(permut, (3,3))\n",
    "            b[i//3][i%3], b[j//3][j%3] = 0, 0\n",
    "            matr7.append(b)"
   ]
  },
  {
   "cell_type": "code",
   "execution_count": 485,
   "metadata": {},
   "outputs": [],
   "source": [
    "scores9 = []\n",
    "for i in range(0, l):\n",
    "    scores9.append(int(round(np.linalg.det(matr9[i]))))"
   ]
  },
  {
   "cell_type": "code",
   "execution_count": 494,
   "metadata": {},
   "outputs": [],
   "source": [
    "scores8 = np.repeat(scores9, 9)"
   ]
  },
  {
   "cell_type": "code",
   "execution_count": 596,
   "metadata": {},
   "outputs": [],
   "source": [
    "allm = np.arange(0, 10**9, dtype=int)\n",
    "alls = np.zeros(10**9, dtype=int)"
   ]
  },
  {
   "cell_type": "code",
   "execution_count": 599,
   "metadata": {},
   "outputs": [
    {
     "data": {
      "text/plain": [
       "345629187"
      ]
     },
     "execution_count": 599,
     "metadata": {},
     "output_type": "execute_result"
    }
   ],
   "source": [
    "allm[345629187]"
   ]
  },
  {
   "cell_type": "code",
   "execution_count": 652,
   "metadata": {},
   "outputs": [],
   "source": [
    "import datetime"
   ]
  },
  {
   "cell_type": "code",
   "execution_count": 654,
   "metadata": {},
   "outputs": [
    {
     "name": "stdout",
     "output_type": "stream",
     "text": [
      "2020-01-12 03:50:35.124514\n",
      "2020-01-12 03:50:35.124514\n",
      "2020-01-12 03:50:35.127507\n",
      "2020-01-12 03:50:35.163410\n",
      "2020-01-12 03:50:35.417731\n",
      "2020-01-12 03:50:37.469248\n",
      "2020-01-12 03:50:57.274321\n",
      "2020-01-12 03:54:20.358598\n"
     ]
    },
    {
     "ename": "KeyboardInterrupt",
     "evalue": "",
     "output_type": "error",
     "traceback": [
      "\u001b[1;31m---------------------------------------------------------------------------\u001b[0m",
      "\u001b[1;31mKeyboardInterrupt\u001b[0m                         Traceback (most recent call last)",
      "\u001b[1;32m<ipython-input-654-4b189825503e>\u001b[0m in \u001b[0;36m<module>\u001b[1;34m\u001b[0m\n\u001b[0;32m      9\u001b[0m         \u001b[0mdigit\u001b[0m \u001b[1;33m=\u001b[0m \u001b[1;33m(\u001b[0m\u001b[0mel\u001b[0m \u001b[1;33m//\u001b[0m \u001b[1;36m10\u001b[0m\u001b[1;33m**\u001b[0m\u001b[1;33m(\u001b[0m\u001b[1;36m8\u001b[0m\u001b[1;33m-\u001b[0m\u001b[0mi\u001b[0m\u001b[1;33m)\u001b[0m\u001b[1;33m)\u001b[0m \u001b[1;33m%\u001b[0m \u001b[1;36m10\u001b[0m\u001b[1;33m\u001b[0m\u001b[1;33m\u001b[0m\u001b[0m\n\u001b[0;32m     10\u001b[0m         \u001b[0mmat\u001b[0m\u001b[1;33m[\u001b[0m\u001b[0mi\u001b[0m\u001b[1;33m//\u001b[0m\u001b[1;36m3\u001b[0m\u001b[1;33m]\u001b[0m\u001b[1;33m[\u001b[0m\u001b[0mi\u001b[0m\u001b[1;33m%\u001b[0m\u001b[1;36m3\u001b[0m\u001b[1;33m]\u001b[0m \u001b[1;33m=\u001b[0m \u001b[0mdigit\u001b[0m\u001b[1;33m\u001b[0m\u001b[1;33m\u001b[0m\u001b[0m\n\u001b[1;32m---> 11\u001b[1;33m     \u001b[0malls\u001b[0m\u001b[1;33m[\u001b[0m\u001b[0mel\u001b[0m\u001b[1;33m]\u001b[0m \u001b[1;33m=\u001b[0m \u001b[0mint\u001b[0m\u001b[1;33m(\u001b[0m\u001b[0mnp\u001b[0m\u001b[1;33m.\u001b[0m\u001b[0mlinalg\u001b[0m\u001b[1;33m.\u001b[0m\u001b[0mdet\u001b[0m\u001b[1;33m(\u001b[0m\u001b[0mmat\u001b[0m\u001b[1;33m)\u001b[0m\u001b[1;33m)\u001b[0m\u001b[1;33m\u001b[0m\u001b[1;33m\u001b[0m\u001b[0m\n\u001b[0m\u001b[0;32m     12\u001b[0m     \u001b[1;32mif\u001b[0m\u001b[1;33m(\u001b[0m\u001b[0mel\u001b[0m\u001b[1;33m==\u001b[0m\u001b[1;36m1\u001b[0m \u001b[1;32mor\u001b[0m \u001b[0mel\u001b[0m\u001b[1;33m==\u001b[0m\u001b[1;36m10\u001b[0m \u001b[1;32mor\u001b[0m \u001b[0mel\u001b[0m\u001b[1;33m==\u001b[0m\u001b[1;36m100\u001b[0m \u001b[1;32mor\u001b[0m \u001b[0mel\u001b[0m\u001b[1;33m==\u001b[0m\u001b[1;36m1000\u001b[0m \u001b[1;32mor\u001b[0m \u001b[0mel\u001b[0m\u001b[1;33m==\u001b[0m\u001b[1;36m10000\u001b[0m \u001b[1;32mor\u001b[0m \u001b[0mel\u001b[0m\u001b[1;33m==\u001b[0m\u001b[1;36m100000\u001b[0m \u001b[1;32mor\u001b[0m \u001b[0mel\u001b[0m\u001b[1;33m==\u001b[0m\u001b[1;36m1000000\u001b[0m \u001b[1;32mor\u001b[0m \u001b[0mel\u001b[0m\u001b[1;33m==\u001b[0m\u001b[1;36m10000000\u001b[0m \u001b[1;32mor\u001b[0m \u001b[0mel\u001b[0m\u001b[1;33m==\u001b[0m\u001b[1;36m100000000\u001b[0m\u001b[1;33m)\u001b[0m\u001b[1;33m:\u001b[0m\u001b[1;33m\u001b[0m\u001b[1;33m\u001b[0m\u001b[0m\n\u001b[0;32m     13\u001b[0m         \u001b[0mprint\u001b[0m\u001b[1;33m(\u001b[0m\u001b[0mdatetime\u001b[0m\u001b[1;33m.\u001b[0m\u001b[0mdatetime\u001b[0m\u001b[1;33m.\u001b[0m\u001b[0mnow\u001b[0m\u001b[1;33m(\u001b[0m\u001b[1;33m)\u001b[0m\u001b[1;33m)\u001b[0m\u001b[1;33m\u001b[0m\u001b[1;33m\u001b[0m\u001b[0m\n",
      "\u001b[1;32m~\\AppData\\Local\\Continuum\\anaconda3\\lib\\site-packages\\numpy\\linalg\\linalg.py\u001b[0m in \u001b[0;36mdet\u001b[1;34m(a)\u001b[0m\n\u001b[0;32m   2091\u001b[0m     \u001b[0mt\u001b[0m\u001b[1;33m,\u001b[0m \u001b[0mresult_t\u001b[0m \u001b[1;33m=\u001b[0m \u001b[0m_commonType\u001b[0m\u001b[1;33m(\u001b[0m\u001b[0ma\u001b[0m\u001b[1;33m)\u001b[0m\u001b[1;33m\u001b[0m\u001b[1;33m\u001b[0m\u001b[0m\n\u001b[0;32m   2092\u001b[0m     \u001b[0msignature\u001b[0m \u001b[1;33m=\u001b[0m \u001b[1;34m'D->D'\u001b[0m \u001b[1;32mif\u001b[0m \u001b[0misComplexType\u001b[0m\u001b[1;33m(\u001b[0m\u001b[0mt\u001b[0m\u001b[1;33m)\u001b[0m \u001b[1;32melse\u001b[0m \u001b[1;34m'd->d'\u001b[0m\u001b[1;33m\u001b[0m\u001b[1;33m\u001b[0m\u001b[0m\n\u001b[1;32m-> 2093\u001b[1;33m     \u001b[0mr\u001b[0m \u001b[1;33m=\u001b[0m \u001b[0m_umath_linalg\u001b[0m\u001b[1;33m.\u001b[0m\u001b[0mdet\u001b[0m\u001b[1;33m(\u001b[0m\u001b[0ma\u001b[0m\u001b[1;33m,\u001b[0m \u001b[0msignature\u001b[0m\u001b[1;33m=\u001b[0m\u001b[0msignature\u001b[0m\u001b[1;33m)\u001b[0m\u001b[1;33m\u001b[0m\u001b[1;33m\u001b[0m\u001b[0m\n\u001b[0m\u001b[0;32m   2094\u001b[0m     \u001b[0mr\u001b[0m \u001b[1;33m=\u001b[0m \u001b[0mr\u001b[0m\u001b[1;33m.\u001b[0m\u001b[0mastype\u001b[0m\u001b[1;33m(\u001b[0m\u001b[0mresult_t\u001b[0m\u001b[1;33m,\u001b[0m \u001b[0mcopy\u001b[0m\u001b[1;33m=\u001b[0m\u001b[1;32mFalse\u001b[0m\u001b[1;33m)\u001b[0m\u001b[1;33m\u001b[0m\u001b[1;33m\u001b[0m\u001b[0m\n\u001b[0;32m   2095\u001b[0m     \u001b[1;32mreturn\u001b[0m \u001b[0mr\u001b[0m\u001b[1;33m\u001b[0m\u001b[1;33m\u001b[0m\u001b[0m\n",
      "\u001b[1;31mKeyboardInterrupt\u001b[0m: "
     ]
    }
   ],
   "source": [
    "b = np.zeros((3,3), dtype=int)\n",
    "for i in range(0, 9):\n",
    "    digit = (allm[345629187] // 10**(8-i)) % 10\n",
    "    b[i//3][i%3] = digit\n",
    "for el in range(0, 10**9):\n",
    "    mat = np.zeros((3,3), dtype=int)\n",
    "    for i in range(0, 9):\n",
    "        digit = (el // 10**(8-i)) % 10\n",
    "        mat[i//3][i%3] = digit\n",
    "    alls[el] = int(np.linalg.det(mat))\n",
    "    if(el==1 or el==10 or el==100 or el==1000 or el==10000 or el==100000 or el==1000000 or el==10000000 or el==100000000):\n",
    "        print(datetime.datetime.now())\n",
    "print(alls[123456798])\n",
    "print(alls[124356798])"
   ]
  },
  {
   "cell_type": "code",
   "execution_count": 648,
   "metadata": {},
   "outputs": [
    {
     "data": {
      "text/plain": [
       "-50"
      ]
     },
     "execution_count": 648,
     "metadata": {},
     "output_type": "execute_result"
    }
   ],
   "source": [
    "alls[26034567]"
   ]
  },
  {
   "cell_type": "code",
   "execution_count": 650,
   "metadata": {},
   "outputs": [
    {
     "data": {
      "text/plain": [
       "-50"
      ]
     },
     "execution_count": 650,
     "metadata": {},
     "output_type": "execute_result"
    }
   ],
   "source": [
    "a = (0,2,6,0,3,4,5,6,7)\n",
    "int(np.linalg.det(np.reshape(a, (3,3))))"
   ]
  },
  {
   "cell_type": "code",
   "execution_count": 636,
   "metadata": {},
   "outputs": [
    {
     "data": {
      "text/plain": [
       "9000"
      ]
     },
     "execution_count": 636,
     "metadata": {},
     "output_type": "execute_result"
    }
   ],
   "source": [
    "sum(alls)"
   ]
  },
  {
   "cell_type": "code",
   "execution_count": 621,
   "metadata": {},
   "outputs": [
    {
     "ename": "KeyboardInterrupt",
     "evalue": "",
     "output_type": "error",
     "traceback": [
      "\u001b[1;31m---------------------------------------------------------------------------\u001b[0m",
      "\u001b[1;31mKeyboardInterrupt\u001b[0m                         Traceback (most recent call last)",
      "\u001b[1;32m<ipython-input-621-567011fa2753>\u001b[0m in \u001b[0;36m<module>\u001b[1;34m\u001b[0m\n\u001b[0;32m     17\u001b[0m     \u001b[1;32mfor\u001b[0m \u001b[0mcand\u001b[0m \u001b[1;32min\u001b[0m \u001b[0mcandidates\u001b[0m\u001b[1;33m:\u001b[0m\u001b[1;33m\u001b[0m\u001b[1;33m\u001b[0m\u001b[0m\n\u001b[0;32m     18\u001b[0m         \u001b[1;32mfor\u001b[0m \u001b[0mk\u001b[0m \u001b[1;32min\u001b[0m \u001b[0mrange\u001b[0m\u001b[1;33m(\u001b[0m\u001b[1;36m0\u001b[0m\u001b[1;33m,\u001b[0m \u001b[0mlen\u001b[0m\u001b[1;33m(\u001b[0m\u001b[0mmatr8\u001b[0m\u001b[1;33m)\u001b[0m\u001b[1;33m)\u001b[0m\u001b[1;33m:\u001b[0m\u001b[1;33m\u001b[0m\u001b[1;33m\u001b[0m\u001b[0m\n\u001b[1;32m---> 19\u001b[1;33m             \u001b[1;32mif\u001b[0m \u001b[0mnp\u001b[0m\u001b[1;33m.\u001b[0m\u001b[0marray_equal\u001b[0m\u001b[1;33m(\u001b[0m\u001b[0mcand\u001b[0m\u001b[1;33m,\u001b[0m \u001b[0mmatr8\u001b[0m\u001b[1;33m[\u001b[0m\u001b[0mk\u001b[0m\u001b[1;33m]\u001b[0m\u001b[1;33m)\u001b[0m\u001b[1;33m:\u001b[0m\u001b[1;33m\u001b[0m\u001b[1;33m\u001b[0m\u001b[0m\n\u001b[0m\u001b[0;32m     20\u001b[0m                 \u001b[0mscores\u001b[0m\u001b[1;33m.\u001b[0m\u001b[0mappend\u001b[0m\u001b[1;33m(\u001b[0m\u001b[0mscores8\u001b[0m\u001b[1;33m[\u001b[0m\u001b[0mk\u001b[0m\u001b[1;33m]\u001b[0m\u001b[1;33m)\u001b[0m\u001b[1;33m\u001b[0m\u001b[1;33m\u001b[0m\u001b[0m\n\u001b[0;32m     21\u001b[0m     \u001b[0mscores7\u001b[0m\u001b[1;33m.\u001b[0m\u001b[0mappend\u001b[0m\u001b[1;33m(\u001b[0m\u001b[0mmin\u001b[0m\u001b[1;33m(\u001b[0m\u001b[0mscores\u001b[0m\u001b[1;33m)\u001b[0m\u001b[1;33m)\u001b[0m\u001b[1;33m\u001b[0m\u001b[1;33m\u001b[0m\u001b[0m\n",
      "\u001b[1;32m~\\AppData\\Local\\Continuum\\anaconda3\\lib\\site-packages\\numpy\\core\\numeric.py\u001b[0m in \u001b[0;36marray_equal\u001b[1;34m(a1, a2)\u001b[0m\n\u001b[0;32m   2589\u001b[0m     \u001b[1;32mif\u001b[0m \u001b[0ma1\u001b[0m\u001b[1;33m.\u001b[0m\u001b[0mshape\u001b[0m \u001b[1;33m!=\u001b[0m \u001b[0ma2\u001b[0m\u001b[1;33m.\u001b[0m\u001b[0mshape\u001b[0m\u001b[1;33m:\u001b[0m\u001b[1;33m\u001b[0m\u001b[1;33m\u001b[0m\u001b[0m\n\u001b[0;32m   2590\u001b[0m         \u001b[1;32mreturn\u001b[0m \u001b[1;32mFalse\u001b[0m\u001b[1;33m\u001b[0m\u001b[1;33m\u001b[0m\u001b[0m\n\u001b[1;32m-> 2591\u001b[1;33m     \u001b[1;32mreturn\u001b[0m \u001b[0mbool\u001b[0m\u001b[1;33m(\u001b[0m\u001b[0masarray\u001b[0m\u001b[1;33m(\u001b[0m\u001b[0ma1\u001b[0m \u001b[1;33m==\u001b[0m \u001b[0ma2\u001b[0m\u001b[1;33m)\u001b[0m\u001b[1;33m.\u001b[0m\u001b[0mall\u001b[0m\u001b[1;33m(\u001b[0m\u001b[1;33m)\u001b[0m\u001b[1;33m)\u001b[0m\u001b[1;33m\u001b[0m\u001b[1;33m\u001b[0m\u001b[0m\n\u001b[0m\u001b[0;32m   2592\u001b[0m \u001b[1;33m\u001b[0m\u001b[0m\n\u001b[0;32m   2593\u001b[0m \u001b[1;33m\u001b[0m\u001b[0m\n",
      "\u001b[1;32m~\\AppData\\Local\\Continuum\\anaconda3\\lib\\site-packages\\numpy\\core\\numeric.py\u001b[0m in \u001b[0;36masarray\u001b[1;34m(a, dtype, order)\u001b[0m\n\u001b[0;32m    467\u001b[0m \u001b[1;33m\u001b[0m\u001b[0m\n\u001b[0;32m    468\u001b[0m \u001b[1;33m\u001b[0m\u001b[0m\n\u001b[1;32m--> 469\u001b[1;33m \u001b[1;33m@\u001b[0m\u001b[0mset_module\u001b[0m\u001b[1;33m(\u001b[0m\u001b[1;34m'numpy'\u001b[0m\u001b[1;33m)\u001b[0m\u001b[1;33m\u001b[0m\u001b[1;33m\u001b[0m\u001b[0m\n\u001b[0m\u001b[0;32m    470\u001b[0m \u001b[1;32mdef\u001b[0m \u001b[0masarray\u001b[0m\u001b[1;33m(\u001b[0m\u001b[0ma\u001b[0m\u001b[1;33m,\u001b[0m \u001b[0mdtype\u001b[0m\u001b[1;33m=\u001b[0m\u001b[1;32mNone\u001b[0m\u001b[1;33m,\u001b[0m \u001b[0morder\u001b[0m\u001b[1;33m=\u001b[0m\u001b[1;32mNone\u001b[0m\u001b[1;33m)\u001b[0m\u001b[1;33m:\u001b[0m\u001b[1;33m\u001b[0m\u001b[1;33m\u001b[0m\u001b[0m\n\u001b[0;32m    471\u001b[0m     \"\"\"Convert the input to an array.\n",
      "\u001b[1;31mKeyboardInterrupt\u001b[0m: "
     ]
    }
   ],
   "source": [
    "scores7 = []\n",
    "z = (0,0,0,0,0,0,0,0,0)\n",
    "zeros = np.reshape(z, (3,3))\n",
    "\n",
    "for i in range(0, 10):\n",
    "    gotten = matr7[i]\n",
    "    vals, candidates, scores = [], [], []\n",
    "    for j in range(1, 10):\n",
    "        if j not in np.ravel(gotten):\n",
    "            vals.append(j)\n",
    "    r = np.where(gotten==0)\n",
    "    for num in vals:\n",
    "        for l in range(0, len(r[0])):\n",
    "            test = gotten.copy()\n",
    "            test[r[0][l], r[1][l]] = num\n",
    "            candidates.append(test)\n",
    "    for cand in candidates:\n",
    "        for k in range(0, len(matr8)):\n",
    "            if np.array_equal(cand, matr8[k]):\n",
    "                scores.append(scores8[k])\n",
    "    scores7.append(min(scores))"
   ]
  },
  {
   "cell_type": "code",
   "execution_count": 575,
   "metadata": {},
   "outputs": [
    {
     "data": {
      "text/plain": [
       "-9"
      ]
     },
     "execution_count": 575,
     "metadata": {},
     "output_type": "execute_result"
    }
   ],
   "source": [
    "scores7[0]"
   ]
  },
  {
   "cell_type": "code",
   "execution_count": 570,
   "metadata": {},
   "outputs": [
    {
     "data": {
      "text/plain": [
       "array([[1, 2, 3],\n",
       "       [4, 5, 6],\n",
       "       [8, 0, 0]])"
      ]
     },
     "execution_count": 570,
     "metadata": {},
     "output_type": "execute_result"
    }
   ],
   "source": [
    "matr7[107]"
   ]
  },
  {
   "cell_type": "code",
   "execution_count": 558,
   "metadata": {},
   "outputs": [
    {
     "data": {
      "text/plain": [
       "-51"
      ]
     },
     "execution_count": 558,
     "metadata": {},
     "output_type": "execute_result"
    }
   ],
   "source": [
    "int(round(np.linalg.det([[1,2,3],[4,7,6],[8,5,9]])))"
   ]
  },
  {
   "cell_type": "code",
   "execution_count": 486,
   "metadata": {},
   "outputs": [
    {
     "name": "stdout",
     "output_type": "stream",
     "text": [
      "[[1 8 9]\n",
      " [2 3 7]\n",
      " [4 5 6]]\n",
      "[[3 4 5]\n",
      " [2 7 9]\n",
      " [1 6 8]]\n",
      "[[4 2 8]\n",
      " [3 7 9]\n",
      " [5 1 6]]\n"
     ]
    }
   ],
   "source": [
    "a = matr9[34578]\n",
    "b = matr9[92346]\n",
    "c = matr9[129812]\n",
    "print(a)\n",
    "print(b)\n",
    "print(c)"
   ]
  },
  {
   "cell_type": "code",
   "execution_count": 487,
   "metadata": {},
   "outputs": [
    {
     "data": {
      "text/plain": [
       "93"
      ]
     },
     "execution_count": 487,
     "metadata": {},
     "output_type": "execute_result"
    }
   ],
   "source": [
    "scores9[34578]"
   ]
  },
  {
   "cell_type": "code",
   "execution_count": 488,
   "metadata": {},
   "outputs": [
    {
     "data": {
      "text/plain": [
       "3"
      ]
     },
     "execution_count": 488,
     "metadata": {},
     "output_type": "execute_result"
    }
   ],
   "source": [
    "scores9[92346]"
   ]
  },
  {
   "cell_type": "code",
   "execution_count": 489,
   "metadata": {},
   "outputs": [
    {
     "data": {
      "text/plain": [
       "-70"
      ]
     },
     "execution_count": 489,
     "metadata": {},
     "output_type": "execute_result"
    }
   ],
   "source": [
    "scores9[129812]"
   ]
  },
  {
   "cell_type": "code",
   "execution_count": 490,
   "metadata": {},
   "outputs": [],
   "source": [
    "status9 = []\n",
    "for i in range(0, l):\n",
    "    if scores9[i] < 0:\n",
    "        status9.append('WIN')\n",
    "    elif scores9[i] > 0:\n",
    "        status9.append('LOSE')\n",
    "    else: status9.append('TIE')"
   ]
  },
  {
   "cell_type": "code",
   "execution_count": 498,
   "metadata": {},
   "outputs": [],
   "source": [
    "status8 = np.repeat(status9, 9)"
   ]
  },
  {
   "cell_type": "code",
   "execution_count": 502,
   "metadata": {},
   "outputs": [
    {
     "name": "stdout",
     "output_type": "stream",
     "text": [
      "180072 WIN\n",
      "2736 TIE\n",
      "180072 LOSE\n"
     ]
    }
   ],
   "source": [
    "print(status9.count('WIN'), 'WIN')\n",
    "print(status9.count('TIE'), 'TIE')\n",
    "print(status9.count('LOSE'), 'LOSE')"
   ]
  },
  {
   "cell_type": "code",
   "execution_count": 517,
   "metadata": {},
   "outputs": [],
   "source": [
    "tt = (1,2,3,4,5,6,7,0,0)\n",
    "gotten = np.reshape(tt, (3,3))\n",
    "\n",
    "z = (0,0,0,0,0,0,0,0,0)\n",
    "zeros = np.reshape(z, (3,3))\n",
    "\n",
    "vals = [8, 9]"
   ]
  },
  {
   "cell_type": "code",
   "execution_count": 518,
   "metadata": {},
   "outputs": [
    {
     "data": {
      "text/plain": [
       "(array([2, 2], dtype=int64), array([1, 2], dtype=int64))"
      ]
     },
     "execution_count": 518,
     "metadata": {},
     "output_type": "execute_result"
    }
   ],
   "source": [
    "r = np.where(gotten==0)\n",
    "r"
   ]
  },
  {
   "cell_type": "code",
   "execution_count": 519,
   "metadata": {},
   "outputs": [],
   "source": [
    "candidates = []\n",
    "for num in vals:\n",
    "    for k in range(0, len(r[0])):\n",
    "        test = gotten.copy()\n",
    "        test[r[0][k], r[1][k]] = num\n",
    "        candidates.append(test)"
   ]
  },
  {
   "cell_type": "code",
   "execution_count": 520,
   "metadata": {
    "collapsed": true
   },
   "outputs": [
    {
     "data": {
      "text/plain": [
       "[array([[1, 2, 3],\n",
       "        [4, 5, 6],\n",
       "        [7, 8, 0]]), array([[1, 2, 3],\n",
       "        [4, 5, 6],\n",
       "        [7, 0, 8]]), array([[1, 2, 3],\n",
       "        [4, 5, 6],\n",
       "        [7, 9, 0]]), array([[1, 2, 3],\n",
       "        [4, 5, 6],\n",
       "        [7, 0, 9]])]"
      ]
     },
     "execution_count": 520,
     "metadata": {},
     "output_type": "execute_result"
    }
   ],
   "source": [
    "candidates"
   ]
  },
  {
   "cell_type": "code",
   "execution_count": 527,
   "metadata": {},
   "outputs": [
    {
     "name": "stdout",
     "output_type": "stream",
     "text": [
      "0\n",
      "9\n",
      "9\n",
      "0\n"
     ]
    }
   ],
   "source": [
    "for cand in candidates:\n",
    "    for i in range(0, len(matr8)):\n",
    "        if np.array_equal(cand, matr8[i]):\n",
    "            print(scores8[i])"
   ]
  },
  {
   "cell_type": "code",
   "execution_count": 548,
   "metadata": {},
   "outputs": [],
   "source": [
    "for i in range(1, 10):\n",
    "    if i not in np.ravel(matr8[7]):\n",
    "        vals.append(i)"
   ]
  },
  {
   "cell_type": "code",
   "execution_count": 549,
   "metadata": {},
   "outputs": [
    {
     "data": {
      "text/plain": [
       "[8, 9, 8, 8]"
      ]
     },
     "execution_count": 549,
     "metadata": {},
     "output_type": "execute_result"
    }
   ],
   "source": [
    "vals"
   ]
  },
  {
   "cell_type": "code",
   "execution_count": null,
   "metadata": {},
   "outputs": [],
   "source": [
    "vals = np.arange(0,10)"
   ]
  },
  {
   "cell_type": "code",
   "execution_count": 426,
   "metadata": {},
   "outputs": [
    {
     "name": "stdout",
     "output_type": "stream",
     "text": [
      "[[4 2 8]\n",
      " [0 7 9]\n",
      " [5 0 0]]\n",
      "[1, 3, 6]\n"
     ]
    }
   ],
   "source": [
    "tt = (4,2,8,0,7,9,5,0,0)\n",
    "test = np.reshape(tt, (3,3))\n",
    "\n",
    "z = (0,0,0,0,0,0,0,0,0)\n",
    "zeros = np.reshape(z, (3,3))\n",
    "a = (test!=zeros)\n",
    "\n",
    "d = a*test\n",
    "print(d)\n",
    "\n",
    "vals = np.arange(1,10)\n",
    "vals = list(vals)\n",
    "vals.remove(2)\n",
    "vals.remove(4)\n",
    "vals.remove(5)\n",
    "vals.remove(9)\n",
    "vals.remove(7)\n",
    "vals.remove(8)\n",
    "print(vals)"
   ]
  },
  {
   "cell_type": "code",
   "execution_count": 427,
   "metadata": {},
   "outputs": [
    {
     "name": "stdout",
     "output_type": "stream",
     "text": [
      "[(1, 3, 6), (1, 6, 3), (3, 1, 6), (3, 6, 1), (6, 1, 3), (6, 3, 1)]\n",
      "[[4 2 8]\n",
      " [1 7 9]\n",
      " [5 3 6]]\n",
      "[[4 2 8]\n",
      " [1 7 9]\n",
      " [5 6 3]]\n",
      "[[4 2 8]\n",
      " [3 7 9]\n",
      " [5 1 6]]\n",
      "[[4 2 8]\n",
      " [3 7 9]\n",
      " [5 6 1]]\n",
      "[[4 2 8]\n",
      " [6 7 9]\n",
      " [5 1 3]]\n",
      "[[4 2 8]\n",
      " [6 7 9]\n",
      " [5 3 1]]\n"
     ]
    }
   ],
   "source": [
    "combs = permutations(vals)\n",
    "poss = []\n",
    "for permut in list(combs):\n",
    "    poss.append(permut)\n",
    "print(poss)\n",
    "\n",
    "variants = []\n",
    "for i in range(0, len(poss)):\n",
    "    variants.append(d.copy())\n",
    "for i in range(0, len(poss)):\n",
    "    variants[i][np.where(variants[i]==0)] = poss[i]\n",
    "for el in variants:\n",
    "    print(el)"
   ]
  },
  {
   "cell_type": "code",
   "execution_count": 437,
   "metadata": {},
   "outputs": [
    {
     "name": "stdout",
     "output_type": "stream",
     "text": [
      "0\n",
      "0\n"
     ]
    }
   ],
   "source": [
    "for k in range(0, len(r)):\n",
    "    print(d[r[k][1], r[k][0]])"
   ]
  },
  {
   "cell_type": "code",
   "execution_count": 438,
   "metadata": {},
   "outputs": [
    {
     "data": {
      "text/plain": [
       "array([[4, 2, 8],\n",
       "       [0, 7, 9],\n",
       "       [5, 0, 0]])"
      ]
     },
     "execution_count": 438,
     "metadata": {},
     "output_type": "execute_result"
    }
   ],
   "source": [
    "d"
   ]
  },
  {
   "cell_type": "code",
   "execution_count": 439,
   "metadata": {},
   "outputs": [
    {
     "data": {
      "text/plain": [
       "numpy.ndarray"
      ]
     },
     "execution_count": 439,
     "metadata": {},
     "output_type": "execute_result"
    }
   ],
   "source": [
    "type(d)"
   ]
  },
  {
   "cell_type": "code",
   "execution_count": 428,
   "metadata": {},
   "outputs": [
    {
     "name": "stdout",
     "output_type": "stream",
     "text": [
      "-118\n",
      "WIN\n",
      "-280\n",
      "WIN\n",
      "-70\n",
      "WIN\n",
      "-240\n",
      "WIN\n",
      "-130\n",
      "WIN\n",
      "-138\n",
      "WIN\n"
     ]
    }
   ],
   "source": [
    "for j in range(0, len(variants)):\n",
    "    for i in range(0,l):\n",
    "        if np.all(matr9[i] == variants[j]):\n",
    "            print(scores9[i])\n",
    "            print(status9[i])"
   ]
  },
  {
   "cell_type": "code",
   "execution_count": 128,
   "metadata": {},
   "outputs": [
    {
     "data": {
      "text/plain": [
       "'WIN'"
      ]
     },
     "execution_count": 128,
     "metadata": {},
     "output_type": "execute_result"
    }
   ],
   "source": [
    "status9[129812]"
   ]
  },
  {
   "cell_type": "code",
   "execution_count": 96,
   "metadata": {},
   "outputs": [
    {
     "data": {
      "text/plain": [
       "'TIE'"
      ]
     },
     "execution_count": 96,
     "metadata": {},
     "output_type": "execute_result"
    }
   ],
   "source": [
    "def f(x):\n",
    "     for y in xrange(2, x):\n",
    "         if x%y==0: return 0\n",
    "     return 1\n",
    " \n",
    "print filter(f, xrange(2, 100))"
   ]
  },
  {
   "cell_type": "code",
   "execution_count": 97,
   "metadata": {},
   "outputs": [
    {
     "data": {
      "text/plain": [
       "list"
      ]
     },
     "execution_count": 97,
     "metadata": {},
     "output_type": "execute_result"
    }
   ],
   "source": [
    "type(status9)"
   ]
  },
  {
   "cell_type": "code",
   "execution_count": 108,
   "metadata": {},
   "outputs": [],
   "source": [
    "iva = [1,2]"
   ]
  },
  {
   "cell_type": "code",
   "execution_count": 109,
   "metadata": {},
   "outputs": [
    {
     "data": {
      "text/plain": [
       "[1, 2]"
      ]
     },
     "execution_count": 109,
     "metadata": {},
     "output_type": "execute_result"
    }
   ],
   "source": [
    "iva"
   ]
  },
  {
   "cell_type": "code",
   "execution_count": 110,
   "metadata": {},
   "outputs": [
    {
     "data": {
      "text/plain": [
       "1"
      ]
     },
     "execution_count": 110,
     "metadata": {},
     "output_type": "execute_result"
    }
   ],
   "source": [
    "iva[0]"
   ]
  },
  {
   "cell_type": "code",
   "execution_count": 111,
   "metadata": {},
   "outputs": [
    {
     "data": {
      "text/plain": [
       "int"
      ]
     },
     "execution_count": 111,
     "metadata": {},
     "output_type": "execute_result"
    }
   ],
   "source": [
    "type(iva[0])"
   ]
  },
  {
   "cell_type": "code",
   "execution_count": 112,
   "metadata": {},
   "outputs": [
    {
     "data": {
      "text/plain": [
       "-72.0"
      ]
     },
     "execution_count": 112,
     "metadata": {},
     "output_type": "execute_result"
    }
   ],
   "source": [
    "a = (4,3,7,9,5,2,8,1,6)\n",
    "np.linalg.det(np.reshape(a, (3,3)))"
   ]
  },
  {
   "cell_type": "code",
   "execution_count": 113,
   "metadata": {},
   "outputs": [
    {
     "data": {
      "text/plain": [
       "-165"
      ]
     },
     "execution_count": 113,
     "metadata": {},
     "output_type": "execute_result"
    }
   ],
   "source": [
    "4*3*7+9*5*2+8*6-4*9*8-3*5-7*6*2"
   ]
  },
  {
   "cell_type": "code",
   "execution_count": null,
   "metadata": {},
   "outputs": [],
   "source": []
  }
 ],
 "metadata": {
  "kernelspec": {
   "display_name": "Python 3",
   "language": "python",
   "name": "python3"
  },
  "language_info": {
   "codemirror_mode": {
    "name": "ipython",
    "version": 3
   },
   "file_extension": ".py",
   "mimetype": "text/x-python",
   "name": "python",
   "nbconvert_exporter": "python",
   "pygments_lexer": "ipython3",
   "version": "3.7.3"
  }
 },
 "nbformat": 4,
 "nbformat_minor": 2
}
