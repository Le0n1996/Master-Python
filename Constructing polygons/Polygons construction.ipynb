{
 "cells": [
  {
   "cell_type": "markdown",
   "metadata": {},
   "source": [
    "## 1. Построение многоугольников по длинам сторон/диагоналей"
   ]
  },
  {
   "cell_type": "code",
   "execution_count": 1,
   "metadata": {},
   "outputs": [],
   "source": [
    "import math\n",
    "import numpy as np # используем для вычислений\n",
    "import matplotlib.pyplot as plt # для графиков"
   ]
  },
  {
   "cell_type": "code",
   "execution_count": 2,
   "metadata": {},
   "outputs": [],
   "source": [
    "from sympy import * # for on-the-fly system solution\n",
    "\n",
    "# k, m, n = symbols('k m n', integer=True) # not needed yet\n",
    "# f, g, h = symbols('f g h', cls=Function) # not needed"
   ]
  },
  {
   "cell_type": "markdown",
   "metadata": {},
   "source": [
    "##### Подготовка к вводу данных:"
   ]
  },
  {
   "cell_type": "code",
   "execution_count": 3,
   "metadata": {
    "scrolled": true
   },
   "outputs": [
    {
     "name": "stdout",
     "output_type": "stream",
     "text": [
      "Сколько углов у фигуры?\n",
      "5\n"
     ]
    }
   ],
   "source": [
    "print('Сколько углов у фигуры?')\n",
    "n = int(input())"
   ]
  },
  {
   "cell_type": "code",
   "execution_count": 4,
   "metadata": {},
   "outputs": [],
   "source": [
    "# инициализация - сюда будем сохранять расстояния и углы\n",
    "dist = np.zeros(n**2, dtype = float)\n",
    "dist = np.reshape(dist, (n, n)) # в дальнейшем элементы на диагонали этой матрицы мы будем игнорировать\n",
    "angles = np.zeros(n, dtype = float)\n",
    "#dist\n",
    "#angles"
   ]
  },
  {
   "cell_type": "code",
   "execution_count": 5,
   "metadata": {},
   "outputs": [],
   "source": [
    "capletters = 'ABCDEFGHIJKLMNOPQRSTUVWXYZ' # для стандартных обозначений\n",
    "letters = 'abcdefghijklmnopqrstuvwxyz' # для стандартных обозначений\n",
    "vert_names = capletters[0:n] + capletters[0]"
   ]
  },
  {
   "cell_type": "markdown",
   "metadata": {},
   "source": [
    "###### Вводим данные:"
   ]
  },
  {
   "cell_type": "code",
   "execution_count": 6,
   "metadata": {},
   "outputs": [
    {
     "name": "stdout",
     "output_type": "stream",
     "text": [
      "Ввод внешних длин сторон фигуры:\n",
      "AB:\n",
      "4\n",
      "BC:\n",
      "4\n",
      "CD:\n",
      "2\n",
      "DE:\n",
      "2.828427\n",
      "EA:\n",
      "2\n",
      "Длины внешних сторон введены в память..\n",
      "\n",
      "Ввод диагоналей фигуры:\n",
      "AC:\n",
      "5.6568542\n",
      "AD:\n",
      "4.47213595\n",
      "BD:\n",
      "4.47213595\n",
      "BE:\n",
      "4.47213595\n",
      "CE:\n",
      "4.47213595\n",
      "Длины диагоналей введены в память..\n",
      "\n",
      "Ввод углов фигуры:\n",
      "Угол при вершине A:\n",
      "90\n",
      "Угол при вершине B:\n",
      "90\n",
      "Угол при вершине C:\n",
      "90\n",
      "Угол при вершине D:\n",
      "135\n",
      "Угол при вершине E:\n",
      "135\n",
      "Величины углов введены в память..\n"
     ]
    }
   ],
   "source": [
    "print('Ввод внешних длин сторон фигуры:')\n",
    "for i in range(0, n):\n",
    "    print(vert_names[i] + vert_names[i+1] + ':')\n",
    "    dist[(i+1) % n][i] = dist[i][(i+1) % n] = float(input())\n",
    "print('Длины внешних сторон введены в память..')\n",
    "    \n",
    "print('\\nВвод диагоналей фигуры:')\n",
    "for i in range(0, n):\n",
    "    for j in range(i+1, n):\n",
    "        if dist[i][j] == 0:\n",
    "            print(vert_names[i] + vert_names[j] + ':')\n",
    "            dist[i][j] = dist[j][i] = float(input()) # матрица симметричная\n",
    "print('Длины диагоналей введены в память..')\n",
    "\n",
    "print('\\nВвод углов фигуры:')\n",
    "for i in range(0, n):\n",
    "    print('Угол при вершине ' + vert_names[i] + ':')\n",
    "    angles[i] = float(input())\n",
    "print('Величины углов введены в память..')"
   ]
  },
  {
   "cell_type": "code",
   "execution_count": 7,
   "metadata": {},
   "outputs": [
    {
     "name": "stdout",
     "output_type": "stream",
     "text": [
      "[[0.         4.         5.6568542  4.47213595 2.        ]\n",
      " [4.         0.         4.         4.47213595 4.47213595]\n",
      " [5.6568542  4.         0.         2.         4.47213595]\n",
      " [4.47213595 4.47213595 2.         0.         2.828427  ]\n",
      " [2.         4.47213595 4.47213595 2.828427   0.        ]] \n",
      "\n",
      "[ 90.  90.  90. 135. 135.]\n"
     ]
    }
   ],
   "source": [
    "print(dist, '\\n')\n",
    "print(angles)"
   ]
  },
  {
   "cell_type": "markdown",
   "metadata": {},
   "source": [
    "Несколько заранее заготовленных шаблонов:"
   ]
  },
  {
   "cell_type": "code",
   "execution_count": 8,
   "metadata": {},
   "outputs": [],
   "source": [
    "square = np.array([[0, 4, 5.65685425, 4],\n",
    " [4, 0, 4, 5.65685425],\n",
    " [5.65685425, 4, 0, 4],\n",
    " [4, 5.65685425, 4, 0]], dtype=float)\n",
    "sq_ang = np.array([90, 90, 90, 90], dtype=float)\n",
    "diam = np.array([[0.,         4.,         5.6568542,  4.47213595, 2.        ],\n",
    " [4.,         0.,         4.,         4.47213595, 4.47213595],\n",
    " [5.6568542,  4.,         0.,         2.,         4.47213595],\n",
    " [4.47213595, 4.47213595, 2.,         0.,         2.828427  ],\n",
    " [2.,         4.47213595, 4.47213595, 2.828427,   0.        ]], dtype=float)\n",
    "diam_ang = np.array([90, 90, 90, 135, 135], dtype=float)\n",
    "gtype = np.array([[0.,         10.,         10.44030651,  6.70820393,  9.21954446,  7.        ],\n",
    " [10.,          0.,          3.,          5.,          8.06225775, 12.20655562],\n",
    " [10.44030651,  3.,          0.,          4.,          5.65685425, 10.77032961],\n",
    " [ 6.70820393,  5.,          4.,          0.,          4.,          7.21110255],\n",
    " [ 9.21954446,  8.06225775,  5.65685425,  4.,          0.,          6.        ],\n",
    " [ 7.,         12.20655562, 10.77032961,  7.21110255,  6.,          0.        ]], dtype=float)\n",
    "g_ang = np.array([90.,  90.,  90., 270.,  90.,  90.], dtype=float)\n",
    "dist = diam"
   ]
  },
  {
   "cell_type": "markdown",
   "metadata": {},
   "source": [
    "### Основная идея:\n",
    "Каждый угол потолка, пока нам ничего не известно, имеет две координаты х и у, которые могут быть любыми (две степени свободы).\n",
    "Поэтому n-угольник имеет 2n степеней свободы, что означает, что нам нужно хотя бы 2n условий, чтобы жестко его задать.\n",
    "\n",
    "3 условия у нас есть: (х- и у-координаты точки А равны 0, х-координата точки В равна 0 (первый отрезок идёт вертикально вверх)). Осталось взять еще 2n-3 условия (и то, поскольку большинство условий по сути квадратные уравнения, в ответах получаются +-с, поэтому надо будет еще бороться со знаками)"
   ]
  },
  {
   "cell_type": "code",
   "execution_count": 9,
   "metadata": {},
   "outputs": [],
   "source": [
    "coord = np.zeros(2*n, dtype = float)\n",
    "coord = np.reshape(coord, (2, n))\n",
    "# coord[0][0] = coord[1][0] = coord[0][1] = 0"
   ]
  },
  {
   "cell_type": "code",
   "execution_count": 10,
   "metadata": {},
   "outputs": [],
   "source": [
    "#for i in range(1, n-1): # а вот так можно вычислить угол по трем сторонам, если его не ввели\n",
    "#    angles[i] = 180*math.acos((dist[i-1][i]**2 + dist[i][i+1]**2 - dist[i-1][i+1]**2)/(2*dist[i-1][i]*dist[i][i+1]))/math.pi"
   ]
  },
  {
   "cell_type": "code",
   "execution_count": 11,
   "metadata": {},
   "outputs": [
    {
     "data": {
      "text/plain": [
       "array([ 90.,  90.,  90., 135., 135.])"
      ]
     },
     "execution_count": 11,
     "metadata": {},
     "output_type": "execute_result"
    }
   ],
   "source": [
    "angles"
   ]
  },
  {
   "cell_type": "code",
   "execution_count": 12,
   "metadata": {},
   "outputs": [],
   "source": [
    "s = ''\n",
    "for i in range(0, n):\n",
    "    s = s + 'x' + str(letters[i]) + ' '\n",
    "for i in range(0, n):\n",
    "    s = s + 'y' + str(letters[i]) + ' '\n",
    "coord_names = s[:-1] # создаем 2n переменных: х- и у-координат"
   ]
  },
  {
   "cell_type": "code",
   "execution_count": 13,
   "metadata": {},
   "outputs": [
    {
     "data": {
      "text/plain": [
       "'xa xb xc xd xe ya yb yc yd ye'"
      ]
     },
     "execution_count": 13,
     "metadata": {},
     "output_type": "execute_result"
    }
   ],
   "source": [
    "coord_names # смотрим, нормально ли мы создали имена координат"
   ]
  },
  {
   "cell_type": "code",
   "execution_count": 14,
   "metadata": {},
   "outputs": [
    {
     "data": {
      "text/plain": [
       "[Eq(xa, 0),\n",
       " Eq(ya, 0),\n",
       " Eq(xb, 0),\n",
       " Eq((-xa + xb)**2 + (-ya + yb)**2 - 16.0, 0),\n",
       " Eq((-xb + xc)**2 + (-yb + yc)**2 - 16.0, 0),\n",
       " Eq((-xc + xd)**2 + (-yc + yd)**2 - 4.0, 0),\n",
       " Eq((-xd + xe)**2 + (-yd + ye)**2 - 7.999999294329, 0),\n",
       " Eq((xa - xe)**2 + (ya - ye)**2 - 4.0, 0),\n",
       " Eq((-xa + xc)**2 + (-ya + yc)**2 - 31.9999994400576, 0),\n",
       " Eq((-xb + xd)**2 + (-yb + yd)**2 - 19.9999999552824, 0),\n",
       " Eq((-xc + xe)**2 + (-yc + ye)**2 - 19.9999999552824, 0),\n",
       " Eq((xa - xd)**2 + (ya - yd)**2 - 19.9999999552824, 0),\n",
       " Eq((xb - xe)**2 + (yb - ye)**2 - 19.9999999552824, 0)]"
      ]
     },
     "execution_count": 14,
     "metadata": {},
     "output_type": "execute_result"
    }
   ],
   "source": [
    "chars = symbols(coord_names, real = True) # учим компьютер воспринимать их как вещественные переменные\n",
    "eqs = []\n",
    "eqs.append(Eq(chars[0]))\n",
    "eqs.append(Eq(chars[n]))\n",
    "eqs.append(Eq(chars[1]))\n",
    "for i in range(0, n): # это учитывает все условия на стороны\n",
    "    eqs.append(Eq((chars[(i+1)%n]-chars[i%n])**2 + (chars[n+(i+1)%n]-chars[n+(i)%n])**2 - dist[i][(i+1)%n]**2))\n",
    "for j in range(0, n): # учитывает все условия на диагонали 'длины 2'\n",
    "    eqs.append(Eq((chars[(j+2)%n]-chars[j%n])**2 + (chars[n+(j+2)%n]-chars[n+(j)%n])**2 - dist[j][(j+2)%n]**2)) \n",
    "eqs # чтобы посмотреть, какие у нас уравнения в итоге имеются"
   ]
  },
  {
   "cell_type": "code",
   "execution_count": 15,
   "metadata": {},
   "outputs": [],
   "source": [
    "var = list(chars) # метод solve() требует их в виде списка"
   ]
  },
  {
   "cell_type": "code",
   "execution_count": 16,
   "metadata": {},
   "outputs": [],
   "source": [
    "solutions = solve(eqs[0:2*n], var) # решаем только 2n уравнений (выбраны первые 10)"
   ]
  },
  {
   "cell_type": "code",
   "execution_count": 17,
   "metadata": {},
   "outputs": [
    {
     "name": "stdout",
     "output_type": "stream",
     "text": [
      "Всего найдено 8 различных решений.\n"
     ]
    }
   ],
   "source": [
    "print('Всего найдено', len(solutions), 'различных решений.')"
   ]
  },
  {
   "cell_type": "code",
   "execution_count": 18,
   "metadata": {},
   "outputs": [
    {
     "data": {
      "text/plain": [
       "[(0.0,\n",
       "  0.0,\n",
       "  -4.00000000000000,\n",
       "  -3.99999996500360,\n",
       "  -2.00000000000000,\n",
       "  0.0,\n",
       "  -4.00000000000000,\n",
       "  -3.99999993000720,\n",
       "  -1.99999993000720,\n",
       "  -7.14285562755096e-8),\n",
       " (0.0,\n",
       "  0.0,\n",
       "  -4.00000000000000,\n",
       "  -3.99999996500360,\n",
       "  -2.00000000000000,\n",
       "  0.0,\n",
       "  4.00000000000000,\n",
       "  3.99999993000720,\n",
       "  1.99999993000720,\n",
       "  7.14285562755096e-8),\n",
       " (0.0,\n",
       "  0.0,\n",
       "  -4.00000000000000,\n",
       "  -3.99999996500360,\n",
       "  -1.20000009073939,\n",
       "  0.0,\n",
       "  -4.00000000000000,\n",
       "  -3.99999993000720,\n",
       "  -1.99999993000720,\n",
       "  -1.59999993194546),\n",
       " (0.0,\n",
       "  0.0,\n",
       "  -4.00000000000000,\n",
       "  -3.99999996500360,\n",
       "  -1.20000009073939,\n",
       "  0.0,\n",
       "  4.00000000000000,\n",
       "  3.99999993000720,\n",
       "  1.99999993000720,\n",
       "  1.59999993194546),\n",
       " (0.0,\n",
       "  0.0,\n",
       "  4.00000000000000,\n",
       "  3.99999996500360,\n",
       "  1.20000009073939,\n",
       "  0.0,\n",
       "  -4.00000000000000,\n",
       "  -3.99999993000720,\n",
       "  -1.99999993000720,\n",
       "  -1.59999993194546),\n",
       " (0.0,\n",
       "  0.0,\n",
       "  4.00000000000000,\n",
       "  3.99999996500360,\n",
       "  1.20000009073939,\n",
       "  0.0,\n",
       "  4.00000000000000,\n",
       "  3.99999993000720,\n",
       "  1.99999993000720,\n",
       "  1.59999993194546),\n",
       " (0.0,\n",
       "  0.0,\n",
       "  4.00000000000000,\n",
       "  3.99999996500360,\n",
       "  2.00000000000000,\n",
       "  0.0,\n",
       "  -4.00000000000000,\n",
       "  -3.99999993000720,\n",
       "  -1.99999993000720,\n",
       "  -7.14285562755096e-8),\n",
       " (0.0,\n",
       "  0.0,\n",
       "  4.00000000000000,\n",
       "  3.99999996500360,\n",
       "  2.00000000000000,\n",
       "  0.0,\n",
       "  4.00000000000000,\n",
       "  3.99999993000720,\n",
       "  1.99999993000720,\n",
       "  7.14285562755096e-8)]"
      ]
     },
     "execution_count": 18,
     "metadata": {},
     "output_type": "execute_result"
    }
   ],
   "source": [
    "solutions[0:len(solutions)] # все решения хранятся в виде массива векторов, каждый вектор - (xa, xb, xc, ... ya, yb, yc, ...)"
   ]
  },
  {
   "cell_type": "code",
   "execution_count": 19,
   "metadata": {},
   "outputs": [
    {
     "data": {
      "image/png": "[encoded data removed]",
      "text/plain": [
       "<Figure size 432x288 with 1 Axes>"
      ]
     },
     "metadata": {
      "needs_background": "light"
     },
     "output_type": "display_data"
    }
   ],
   "source": [
    "for i in range(0, len(solutions)): # то есть на одном графике печатаем вообще всё, что подошло как решения\n",
    "    xcoord = list(solutions[i][0:n])\n",
    "    ycoord = list(solutions[i][n:2*n])\n",
    "    xcoord.append(solutions[i][0]) # для того, чтобы замкнуть цепочку, надо ещё раз взять точку А\n",
    "    ycoord.append(solutions[i][n]) # для того, чтобы замкнуть цепочку, надо ещё раз взять точку А\n",
    "    plt.plot(xcoord, ycoord)"
   ]
  },
  {
   "cell_type": "code",
   "execution_count": 20,
   "metadata": {},
   "outputs": [
    {
     "data": {
      "image/png": "[encoded data removed]",
      "text/plain": [
       "<Figure size 432x288 with 1 Axes>"
      ]
     },
     "metadata": {
      "needs_background": "light"
     },
     "output_type": "display_data"
    }
   ],
   "source": [
    "posj = []\n",
    "for j in range(0, len(solutions)):\n",
    "    for i in range(0, 2*n):\n",
    "        if solutions[j][i] < 0: # если цикл видит, что в решении есть какая-то отрицательная координата, то\n",
    "            break # он заканчивает рассмотрение этого решения и переходит к следующему\n",
    "        elif i == 2*n-1: # если все координаты не отрицательны, то\n",
    "            posj.append(j) # номер этого решения сохраняется\n",
    "for elem in posj: # печатаем всё, что не содержит отрицательных координат\n",
    "    xcoord = list(solutions[elem][0:n])\n",
    "    ycoord = list(solutions[elem][n:2*n])\n",
    "    xcoord.append(solutions[elem][0]) # для того, чтобы замкнуть цепочку, надо ещё раз взять точку А\n",
    "    ycoord.append(solutions[elem][n]) # для того, чтобы замкнуть цепочку, надо ещё раз взять точку А\n",
    "    plt.plot(xcoord, ycoord)"
   ]
  },
  {
   "cell_type": "code",
   "execution_count": null,
   "metadata": {},
   "outputs": [],
   "source": [
    "chars = symbols(coord_names, real = True, positive = True) # учим компьютер воспринимать их как вещественные положительные переменные\n",
    "eqs = []\n",
    "eqs.append(Eq(chars[0]))\n",
    "eqs.append(Eq(chars[n]))\n",
    "eqs.append(Eq(chars[1]))\n",
    "eqs.append(Eq(chars[7]**2 - 100.0, 0))\n",
    "eqs.append(Eq(chars[2]**2 + (-chars[7] + chars[8])**2 - 9.0, 0))\n",
    "eqs.append(Eq((-chars[2] + chars[3])**2 + (-chars[8] + chars[9])**2 - 16.0, 0))\n",
    "eqs.append(Eq((-chars[3] + chars[4])**2 + (-chars[9] + chars[10])**2 - 16.0, 0))\n",
    "eqs.append(Eq((-chars[4] + chars[5])**2 + (-chars[10] + chars[11])**2 - 36.0, 0))\n",
    "eqs.append(Eq(chars[5]**2 + chars[11]**2 - 49.0, 0))\n",
    "eqs.append(Eq(chars[2]**2 + chars[8]**2 - 109.0, 0))\n",
    "eqs.append(Eq(chars[3]**2 + (-chars[7] + chars[9])**2 - 25.0, 0))\n",
    "eqs.append(Eq((-chars[2] + chars[5])**2 + (-chars[8] + chars[10])**2 - 32.0, 0))\n",
    "eqs"
   ]
  }
 ],
 "metadata": {
  "kernelspec": {
   "display_name": "Python 3",
   "language": "python",
   "name": "python3"
  },
  "language_info": {
   "codemirror_mode": {
    "name": "ipython",
    "version": 3
   },
   "file_extension": ".py",
   "mimetype": "text/x-python",
   "name": "python",
   "nbconvert_exporter": "python",
   "pygments_lexer": "ipython3",
   "version": "3.7.3"
  }
 },
 "nbformat": 4,
 "nbformat_minor": 2
}
