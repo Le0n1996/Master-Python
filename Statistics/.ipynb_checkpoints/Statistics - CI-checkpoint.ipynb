{
 "cells": [
  {
   "cell_type": "code",
   "execution_count": 1,
   "metadata": {},
   "outputs": [],
   "source": [
    "import pandas as pd\n",
    "import numpy as np\n",
    "from scipy import stats\n",
    "#import scipy as sp\n",
    "#import scipy.stats\n",
    "\n",
    "#pip install pandas"
   ]
  },
  {
   "cell_type": "code",
   "execution_count": 2,
   "metadata": {},
   "outputs": [
    {
     "data": {
      "text/plain": [
       "(-3.7449999999999988, -4.708237286415618, -2.781762713584379)"
      ]
     },
     "execution_count": 2,
     "metadata": {},
     "output_type": "execute_result"
    }
   ],
   "source": [
    "############\n",
    "# Task 1#\n",
    "############\n",
    "x = pd.Series([50.22, 52.27, 52.91, 52.55, 50.44, 51.03,\n",
    "50.31, 46.47, 50.79, 51.88, 54.97, 51.04])\n",
    "\n",
    "y = pd.Series([47.28, 47.27, 49.68, 46.79, 47.51, 46.46,\n",
    "44.27, 44.01, 45.99, 47.95, 53.81, 48.92])\n",
    "\n",
    "u = y - x\n",
    "def mean_confidence_interval(data, alpha):\n",
    "    m = len(data)\n",
    "    data_mean = data.mean()\n",
    "    s_sq =  np.sum((data - data_mean)**2)/(m-1)\n",
    "    se = (np.sqrt(s_sq)/np.sqrt(m))\n",
    "    h = se * stats.t.ppf(1 - alpha/2, m-1)\n",
    "    return data_mean, data_mean - h, data_mean + h\n",
    "\n",
    "mean_confidence_interval(u, 0.05)"
   ]
  },
  {
   "cell_type": "code",
   "execution_count": 3,
   "metadata": {},
   "outputs": [
    {
     "data": {
      "text/plain": [
       "(-2.8874999999999886, -4.487803892118425, -1.287196107881552)"
      ]
     },
     "execution_count": 3,
     "metadata": {},
     "output_type": "execute_result"
    }
   ],
   "source": [
    "############\n",
    "# Task 2#\n",
    "############\n",
    "x = pd.Series([47.70, 50.52, 50.82, 53.57, 53.93, 48.21,\n",
    "51.91, 48.67, 52.35, 52.94, 52.63, 52.79])\n",
    "\n",
    "y = pd.Series([50.19, 48.64, 49.77, 48.91, 49.11, 46.82,\n",
    "45.78, 50.52, 48.98, 45.05, 47.52, 50.10])\n",
    "\n",
    "u = y - x\n",
    "def mean_confidence_interval_2(x, y, sigma_sq, alpha):\n",
    "    m_1 = len(x)\n",
    "    m_2 = len(y)\n",
    "    x_mean = x.mean()\n",
    "    y_mean = y.mean()\n",
    "    u_mean = x_mean - y_mean\n",
    "    se =  np.sqrt((sigma_sq/m_1) + (sigma_sq/m_2))\n",
    "    h = se * stats.norm.ppf(1 - alpha/2)\n",
    "    return u_mean, u_mean - h, u_mean + h\n",
    "\n",
    "mean_confidence_interval_2(y, x, 4, 0.05)"
   ]
  },
  {
   "cell_type": "code",
   "execution_count": 4,
   "metadata": {},
   "outputs": [
    {
     "data": {
      "text/plain": [
       "(-2.8874999999999886, -4.5558321150453756, -1.219167884954602)"
      ]
     },
     "execution_count": 4,
     "metadata": {},
     "output_type": "execute_result"
    }
   ],
   "source": [
    "############\n",
    "# Task 3#\n",
    "############\n",
    "x = pd.Series([47.70, 50.52, 50.82, 53.57, 53.93, 48.21,\n",
    "51.91, 48.67, 52.35, 52.94, 52.63, 52.79])\n",
    "\n",
    "y = pd.Series([50.19, 48.64, 49.77, 48.91, 49.11, 46.82,\n",
    "45.78, 50.52, 48.98, 45.05, 47.52, 50.10])\n",
    "\n",
    "u = y - x\n",
    "def mean_confidence_interval_3(x, y, alpha):\n",
    "    m_1 = len(x)\n",
    "    m_2 = len(y)\n",
    "    x_mean = x.mean()\n",
    "    y_mean = y.mean()\n",
    "    u_mean = x_mean - y_mean\n",
    "    s_sq_x = np.sum((x - x_mean) ** 2) / (m_1 - 1)\n",
    "    s_sq_y = np.sum((y - y_mean) ** 2) / (m_2 - 1)\n",
    "    S = np.sqrt((( (m_1 - 1)*s_sq_x) + ((m_2 - 1)*s_sq_y )) / (m_1 + m_2 -2) )\n",
    "    se =  S * np.sqrt((m_1 + m_2)/(m_1*m_2))\n",
    "    h = se * stats.t.ppf(1 - alpha/2, m_1 + m_2 - 2)\n",
    "    return u_mean, u_mean - h, u_mean + h\n",
    "\n",
    "mean_confidence_interval_3(y, x, 0.05)"
   ]
  },
  {
   "cell_type": "code",
   "execution_count": null,
   "metadata": {},
   "outputs": [],
   "source": []
  }
 ],
 "metadata": {
  "kernelspec": {
   "display_name": "Python 3",
   "language": "python",
   "name": "python3"
  },
  "language_info": {
   "codemirror_mode": {
    "name": "ipython",
    "version": 3
   },
   "file_extension": ".py",
   "mimetype": "text/x-python",
   "name": "python",
   "nbconvert_exporter": "python",
   "pygments_lexer": "ipython3",
   "version": "3.7.3"
  }
 },
 "nbformat": 4,
 "nbformat_minor": 1
}
