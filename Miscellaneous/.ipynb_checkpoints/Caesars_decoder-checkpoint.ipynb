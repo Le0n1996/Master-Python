{
 "cells": [
  {
   "cell_type": "code",
   "execution_count": 1,
   "metadata": {},
   "outputs": [],
   "source": [
    "import pandas as pd\n",
    "import re"
   ]
  },
  {
   "cell_type": "code",
   "execution_count": 2,
   "metadata": {},
   "outputs": [],
   "source": [
    "def decoder_ces(code, k): #decode seqs of eng letters\n",
    "    res = ''\n",
    "    for i in range(len(code)):\n",
    "        if code[i] != ' ':\n",
    "            res += chr(((ord(code[i]) - 64) + k) % 26 + 65)\n",
    "        #else:\n",
    "            #res += ' '\n",
    "    print(res)"
   ]
  },
  {
   "cell_type": "code",
   "execution_count": 3,
   "metadata": {},
   "outputs": [
    {
     "name": "stdout",
     "output_type": "stream",
     "text": [
      "MAXLX TKXGM MAXWK HBWLR HNKXE HHDBG ZYHK\n"
     ]
    }
   ],
   "source": [
    "text = input()\n",
    "letters_only = re.sub(' ', '', text)\n",
    "lst = list(text)"
   ]
  },
  {
   "cell_type": "code",
   "execution_count": 4,
   "metadata": {},
   "outputs": [],
   "source": [
    "freqs = pd.Series(list(letters_only)).value_counts(ascending=False).to_frame()"
   ]
  },
  {
   "cell_type": "code",
   "execution_count": 5,
   "metadata": {},
   "outputs": [
    {
     "name": "stdout",
     "output_type": "stream",
     "text": [
      "THESEARENTTHEDROIDSYOURELOOKINGFOR\n",
      "JXUIUQHUDJJXUTHEYTIOEKHUBEEAYDWVEH\n",
      "GURFRNERAGGURQEBVQFLBHERYBBXVATSBE\n"
     ]
    }
   ],
   "source": [
    "for i in range(3):\n",
    "    most_freq_let = freqs.head()[0].index[i]\n",
    "    password = (ord('E') - ord(most_freq_let) - 1) % 26\n",
    "    decoder_ces(lst, k=password)"
   ]
  },
  {
   "cell_type": "code",
   "execution_count": null,
   "metadata": {},
   "outputs": [],
   "source": []
  }
 ],
 "metadata": {
  "kernelspec": {
   "display_name": "Python 3",
   "language": "python",
   "name": "python3"
  },
  "language_info": {
   "codemirror_mode": {
    "name": "ipython",
    "version": 3
   },
   "file_extension": ".py",
   "mimetype": "text/x-python",
   "name": "python",
   "nbconvert_exporter": "python",
   "pygments_lexer": "ipython3",
   "version": "3.7.3"
  }
 },
 "nbformat": 4,
 "nbformat_minor": 2
}
