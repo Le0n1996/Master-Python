{
 "cells": [
  {
   "cell_type": "code",
   "execution_count": 1,
   "metadata": {},
   "outputs": [],
   "source": [
    "def decoder_ces(code, k): #decode seqs of eng letters\n",
    "    res = ''\n",
    "    for i in range(len(code)):\n",
    "        if code[i] != ' ':\n",
    "            res += chr(((ord(code[i]) - 64) + k) % 26 + 64)\n",
    "        #else:\n",
    "            #res += ' '\n",
    "    print(res)"
   ]
  },
  {
   "cell_type": "code",
   "execution_count": 2,
   "metadata": {},
   "outputs": [
    {
     "name": "stdout",
     "output_type": "stream",
     "text": [
      "MAXLX TKXGM MAXWK HBWLR HNKXE HHDBG ZYHK\n"
     ]
    }
   ],
   "source": [
    "text = input()"
   ]
  },
  {
   "cell_type": "code",
   "execution_count": 3,
   "metadata": {},
   "outputs": [],
   "source": [
    "lst = []\n",
    " \n",
    "for letter in text:\n",
    "    lst.append(letter)"
   ]
  },
  {
   "cell_type": "code",
   "execution_count": 4,
   "metadata": {},
   "outputs": [
    {
     "name": "stdout",
     "output_type": "stream",
     "text": [
      "MAXLXTKXGMMAXWKHBWLRHNKXEHHDBG@YHK\n",
      "NBYMYULYHNNBYXLICXMSIOLYFIIECHA@IL\n",
      "OC@N@VM@IOOC@YMJDYNTJPM@GJJFDIBAJM\n",
      "PDAOAWNAJPPDA@NKE@OUKQNAHKKGEJCBKN\n",
      "QEBPBXOBKQQEBAOLFAPVLROBILLHFKDCLO\n",
      "RFCQCYPCLRRFCBPMGBQWMSPCJMMIGLEDMP\n",
      "SGDRD@QDMSSGDCQNHCRXNTQDKNNJHMFENQ\n",
      "THESEARENTTHEDROIDSYOURELOOKINGFOR\n",
      "UIFTFBSFOUUIFESPJET@PVSFMPPLJOHGPS\n",
      "VJGUGCTGPVVJGFTQKFUAQWTGNQQMKPIHQT\n",
      "WKHVHDUHQWWKHGURLGVBRXUHORRNLQJIRU\n",
      "XLIWIEVIRXXLIHVSMHWCSYVIPSSOMRKJSV\n",
      "YMJXJFWJSYYMJIWTNIXDT@WJQTTPNSLKTW\n",
      "@NKYKGXKT@@NKJXUOJYEUAXKRUUQOTMLUX\n",
      "AOL@LHYLUAAOLKYVPK@FVBYLSVVRPUNMVY\n",
      "BPMAMI@MVBBPML@WQLAGWC@MTWWSQVONW@\n",
      "CQNBNJANWCCQNMAXRMBHXDANUXXTRWPOXA\n",
      "DROCOKBOXDDRONBYSNCIYEBOVYYUSXQPYB\n",
      "ESPDPLCPYEESPOC@TODJ@FCPW@@VTYRQ@C\n",
      "FTQEQMDQ@FFTQPDAUPEKAGDQXAAWU@SRAD\n",
      "GURFRNERAGGURQEBVQFLBHERYBBXVATSBE\n",
      "HVSGSOFSBHHVSRFCWRGMCIFS@CCYWBUTCF\n",
      "IWTHTPGTCIIWTSGDXSHNDJGTADD@XCVUDG\n",
      "JXUIUQHUDJJXUTHEYTIOEKHUBEEAYDWVEH\n",
      "KYVJVRIVEKKYVUIF@UJPFLIVCFFB@EXWFI\n",
      "L@WKWSJWFLL@WVJGAVKQGMJWDGGCAFYXGJ\n"
     ]
    }
   ],
   "source": [
    "for k in range(26):\n",
    "    decoder_ces(lst, k)"
   ]
  },
  {
   "cell_type": "code",
   "execution_count": null,
   "metadata": {},
   "outputs": [],
   "source": []
  }
 ],
 "metadata": {
  "kernelspec": {
   "display_name": "Python 3",
   "language": "python",
   "name": "python3"
  },
  "language_info": {
   "codemirror_mode": {
    "name": "ipython",
    "version": 3
   },
   "file_extension": ".py",
   "mimetype": "text/x-python",
   "name": "python",
   "nbconvert_exporter": "python",
   "pygments_lexer": "ipython3",
   "version": "3.7.3"
  }
 },
 "nbformat": 4,
 "nbformat_minor": 2
}
