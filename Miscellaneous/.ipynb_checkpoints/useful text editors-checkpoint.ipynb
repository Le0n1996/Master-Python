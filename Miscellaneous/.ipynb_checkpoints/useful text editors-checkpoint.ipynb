{
 "cells": [
  {
   "cell_type": "code",
   "execution_count": 1,
   "metadata": {},
   "outputs": [],
   "source": [
    "import pandas as pd\n",
    "import numpy as np\n",
    "import re\n",
    "from scipy import stats\n",
    "#import scipy as sp\n",
    "#import scipy.stats\n",
    "\n",
    "#pip install pandas"
   ]
  },
  {
   "cell_type": "code",
   "execution_count": 2,
   "metadata": {},
   "outputs": [
    {
     "ename": "AttributeError",
     "evalue": "'NoneType' object has no attribute 'text'",
     "output_type": "error",
     "traceback": [
      "\u001b[1;31m---------------------------------------------------------------------------\u001b[0m",
      "\u001b[1;31mAttributeError\u001b[0m                            Traceback (most recent call last)",
      "\u001b[1;32m<ipython-input-2-bc2fd61d846b>\u001b[0m in \u001b[0;36m<module>\u001b[1;34m\u001b[0m\n\u001b[0;32m     10\u001b[0m \u001b[1;33m\u001b[0m\u001b[0m\n\u001b[0;32m     11\u001b[0m \u001b[0murl\u001b[0m \u001b[1;33m=\u001b[0m \u001b[1;34m'https://www.overleaf.com/project/6046088aa5a36669078416a6'\u001b[0m\u001b[1;33m\u001b[0m\u001b[1;33m\u001b[0m\u001b[0m\n\u001b[1;32m---> 12\u001b[1;33m \u001b[0mtext\u001b[0m \u001b[1;33m=\u001b[0m \u001b[0mget_text\u001b[0m\u001b[1;33m(\u001b[0m\u001b[0murl\u001b[0m\u001b[1;33m)\u001b[0m\u001b[1;33m\u001b[0m\u001b[1;33m\u001b[0m\u001b[0m\n\u001b[0m\u001b[0;32m     13\u001b[0m \u001b[1;31m# print(text) # весь текст\u001b[0m\u001b[1;33m\u001b[0m\u001b[1;33m\u001b[0m\u001b[1;33m\u001b[0m\u001b[0m\n\u001b[0;32m     14\u001b[0m \u001b[1;31m# print(text[:100])  # Первые 100 символов из строки\u001b[0m\u001b[1;33m\u001b[0m\u001b[1;33m\u001b[0m\u001b[1;33m\u001b[0m\u001b[0m\n",
      "\u001b[1;32m<ipython-input-2-bc2fd61d846b>\u001b[0m in \u001b[0;36mget_text\u001b[1;34m(url)\u001b[0m\n\u001b[0;32m      7\u001b[0m     \u001b[0marticle\u001b[0m \u001b[1;33m=\u001b[0m \u001b[0mroot\u001b[0m\u001b[1;33m.\u001b[0m\u001b[0mselect_one\u001b[0m\u001b[1;33m(\u001b[0m\u001b[1;34m'article'\u001b[0m\u001b[1;33m)\u001b[0m\u001b[1;33m\u001b[0m\u001b[1;33m\u001b[0m\u001b[0m\n\u001b[0;32m      8\u001b[0m \u001b[1;33m\u001b[0m\u001b[0m\n\u001b[1;32m----> 9\u001b[1;33m     \u001b[1;32mreturn\u001b[0m \u001b[0marticle\u001b[0m\u001b[1;33m.\u001b[0m\u001b[0mtext\u001b[0m\u001b[1;33m\u001b[0m\u001b[1;33m\u001b[0m\u001b[0m\n\u001b[0m\u001b[0;32m     10\u001b[0m \u001b[1;33m\u001b[0m\u001b[0m\n\u001b[0;32m     11\u001b[0m \u001b[0murl\u001b[0m \u001b[1;33m=\u001b[0m \u001b[1;34m'https://www.overleaf.com/project/6046088aa5a36669078416a6'\u001b[0m\u001b[1;33m\u001b[0m\u001b[1;33m\u001b[0m\u001b[0m\n",
      "\u001b[1;31mAttributeError\u001b[0m: 'NoneType' object has no attribute 'text'"
     ]
    }
   ],
   "source": [
    "import requests\n",
    "from bs4 import BeautifulSoup\n",
    "\n",
    "def get_text(url):\n",
    "    rs = requests.get(url)\n",
    "    root = BeautifulSoup(rs.content, 'html.parser')\n",
    "    article = root.select_one('article')\n",
    "\n",
    "    return article.text\n",
    "\n",
    "url = 'https://www.overleaf.com/project/6046088aa5a36669078416a6'\n",
    "text = get_text(url)\n",
    "# print(text) # весь текст\n",
    "# print(text[:100])  # Первые 100 символов из строки"
   ]
  },
  {
   "cell_type": "code",
   "execution_count": 2,
   "metadata": {},
   "outputs": [],
   "source": [
    "url = 'https://www.overleaf.com/project/6046088aa5a36669078416a6'"
   ]
  },
  {
   "cell_type": "code",
   "execution_count": 3,
   "metadata": {},
   "outputs": [],
   "source": [
    "rs = requests.get(url)\n",
    "root = BeautifulSoup(rs.content, 'html.parser')"
   ]
  },
  {
   "cell_type": "code",
   "execution_count": 6,
   "metadata": {},
   "outputs": [
    {
     "ename": "OSError",
     "evalue": "[Errno 22] Invalid argument: '\\tasks\\x06.8\\\\Problems.tex'",
     "output_type": "error",
     "traceback": [
      "\u001b[1;31m---------------------------------------------------------------------------\u001b[0m",
      "\u001b[1;31mOSError\u001b[0m                                   Traceback (most recent call last)",
      "\u001b[1;32m<ipython-input-6-c90965d99522>\u001b[0m in \u001b[0;36m<module>\u001b[1;34m\u001b[0m\n\u001b[1;32m----> 1\u001b[1;33m \u001b[0mfile\u001b[0m \u001b[1;33m=\u001b[0m \u001b[0mopen\u001b[0m\u001b[1;33m(\u001b[0m\u001b[1;34m'\\tasks\\6.8\\Problems.tex'\u001b[0m\u001b[1;33m,\u001b[0m \u001b[1;34m'r'\u001b[0m\u001b[1;33m,\u001b[0m \u001b[0mencoding\u001b[0m\u001b[1;33m=\u001b[0m\u001b[1;34m\"utf8\"\u001b[0m\u001b[1;33m)\u001b[0m\u001b[1;33m\u001b[0m\u001b[1;33m\u001b[0m\u001b[0m\n\u001b[0m\u001b[0;32m      2\u001b[0m \u001b[0mfile\u001b[0m\u001b[1;33m.\u001b[0m\u001b[0mread\u001b[0m\u001b[1;33m(\u001b[0m\u001b[1;36m2615\u001b[0m\u001b[1;33m)\u001b[0m\u001b[1;33m\u001b[0m\u001b[1;33m\u001b[0m\u001b[0m\n\u001b[0;32m      3\u001b[0m \u001b[0ms\u001b[0m \u001b[1;33m=\u001b[0m \u001b[0mfile\u001b[0m\u001b[1;33m.\u001b[0m\u001b[0mread\u001b[0m\u001b[1;33m(\u001b[0m\u001b[1;33m)\u001b[0m\u001b[1;33m\u001b[0m\u001b[1;33m\u001b[0m\u001b[0m\n",
      "\u001b[1;31mOSError\u001b[0m: [Errno 22] Invalid argument: '\\tasks\\x06.8\\\\Problems.tex'"
     ]
    }
   ],
   "source": [
    "file = open('\\tasks\\6.8\\Problems.tex', 'r', encoding=\"utf8\")\n",
    "file.read(2615)\n",
    "s = file.read()"
   ]
  },
  {
   "cell_type": "code",
   "execution_count": 109,
   "metadata": {},
   "outputs": [],
   "source": [
    "indmas = [9, 8, 6, 6, 5, 5]"
   ]
  },
  {
   "cell_type": "code",
   "execution_count": 129,
   "metadata": {},
   "outputs": [],
   "source": [
    "counter1 = []\n",
    "counter2 = []\n",
    "counter3 = []\n",
    "\n",
    "for i in range(6, 12):\n",
    "    for j in range(1, indmas[i-6]+1):\n",
    "        name = str(i) + '.' + str(j)\n",
    "        file = open('tasks\\\\' + name + '\\Problems.tex', 'r', encoding=\"utf8\")\n",
    "        file.read(2615)\n",
    "        s = file.read()\n",
    "        counter1.append(len(re.findall('НаписанноеРешение', s))-1)\n",
    "        counter2.append(len(re.findall('ВерныйОтвет', s))-1)\n",
    "        counter3.append(len(re.findall('Подсказка', s))-1)"
   ]
  },
  {
   "cell_type": "code",
   "execution_count": 130,
   "metadata": {},
   "outputs": [
    {
     "name": "stdout",
     "output_type": "stream",
     "text": [
      "нет решений: [4, 15, 7, 49, 53, 11, 16, 59, 16, 49, 36, 4, 5, 9, 20, 22, 48, 11, 10, 35, 19, 62, 54, 48, 98, 136, 28, 5, 42, 3, 0, 11, 18, 41, 10, 33, 24, 0, 0]\n",
      "нет ответа: [4, 15, 6, 49, 53, 10, 16, 58, 16, 49, 36, 4, 4, 9, 20, 22, 48, 11, 11, 36, 19, 62, 54, 51, 98, 134, 28, 5, 41, 3, 0, 11, 18, 41, 10, 33, 24, 0, 0]\n",
      "нет подсказки: [4, 15, 6, 49, 54, 11, 16, 63, 16, 50, 37, 4, 4, 9, 20, 21, 48, 11, 11, 38, 19, 61, 57, 51, 99, 138, 35, 5, 44, 3, 0, 11, 18, 41, 8, 33, 24, 0, 0]\n"
     ]
    }
   ],
   "source": [
    "print('нет решений: ' + str(counter1))\n",
    "print('нет ответа: ' + str(counter2))\n",
    "print('нет подсказки: ' + str(counter3))"
   ]
  },
  {
   "cell_type": "code",
   "execution_count": 4,
   "metadata": {},
   "outputs": [],
   "source": [
    "def texlinks(a): # fix links for latex inout\n",
    "    bad_ones = ['%', '_', '#'] # if errors happen, add more\n",
    "    for symb in bad_ones:\n",
    "        a = a.replace(symb, '\\\\' + symb) # repeat for all symbols\n",
    "    a = '\\href{' + a + '}{ТЕКСТССЫЛКИ}' \n",
    "    print(a) # return prepped version of pdf-clicable link"
   ]
  },
  {
   "cell_type": "code",
   "execution_count": 6,
   "metadata": {},
   "outputs": [
    {
     "name": "stdout",
     "output_type": "stream",
     "text": [
      "https://ru.wikipedia.org/wiki/%D0%A0%D1%8F%D0%B4_%D0%BE%D0%B1%D1%80%D0%B0%D1%82%D0%BD%D1%8B%D1%85_%D0%BA%D0%B2%D0%B0%D0%B4%D1%80%D0%B0%D1%82%D0%BE%D0%B2\n"
     ]
    }
   ],
   "source": [
    "a = input()"
   ]
  },
  {
   "cell_type": "code",
   "execution_count": 7,
   "metadata": {},
   "outputs": [
    {
     "name": "stdout",
     "output_type": "stream",
     "text": [
      "\\href{https://ru.wikipedia.org/wiki/\\%D0\\%A0\\%D1\\%8F\\%D0\\%B4\\_\\%D0\\%BE\\%D0\\%B1\\%D1\\%80\\%D0\\%B0\\%D1\\%82\\%D0\\%BD\\%D1\\%8B\\%D1\\%85\\_\\%D0\\%BA\\%D0\\%B2\\%D0\\%B0\\%D0\\%B4\\%D1\\%80\\%D0\\%B0\\%D1\\%82\\%D0\\%BE\\%D0\\%B2}{ТЕКСТССЫЛКИ}\n"
     ]
    }
   ],
   "source": [
    "texlinks(a)"
   ]
  },
  {
   "cell_type": "code",
   "execution_count": 1,
   "metadata": {},
   "outputs": [],
   "source": [
    "def decoder(text): # decode numbers seqs\n",
    "    res = [] # result of decoding will be written here\n",
    "    for elem in text: # \"text is digit sequence, encoded\"\n",
    "        if int(elem) < 7: # А-Е letters have codes 1-6 and start from 1040 (1+1039 - 6+1039)\n",
    "            res.append(chr(int(elem) + 1039)) # append corresponding letter\n",
    "        if int(elem) == 7: # special case of letter Ё\n",
    "            res.append(chr(1025)) # append corresponding letter\n",
    "        if int(elem) > 7: # letters Ж-Я have codes 8-33 and continue from 1046 (8+1038 - 33+1038)\n",
    "            res.append(chr(int(elem) + 1038)) # append corresponding letter\n",
    "    print(res)"
   ]
  },
  {
   "cell_type": "code",
   "execution_count": 2,
   "metadata": {},
   "outputs": [
    {
     "name": "stdout",
     "output_type": "stream",
     "text": [
      "17 18 16 22 6 19 19 16 18 19 12 10 11 20 21 17 10 12 5 2\n"
     ]
    }
   ],
   "source": [
    "text = input()\n",
    "text = text.split(' ')"
   ]
  },
  {
   "cell_type": "code",
   "execution_count": 3,
   "metadata": {},
   "outputs": [
    {
     "name": "stdout",
     "output_type": "stream",
     "text": [
      "['П', 'Р', 'О', 'Ф', 'Е', 'С', 'С', 'О', 'Р', 'С', 'К', 'И', 'Й', 'Т', 'У', 'П', 'И', 'К', 'Д', 'Б']\n"
     ]
    }
   ],
   "source": [
    "decoder(text)"
   ]
  },
  {
   "cell_type": "code",
   "execution_count": 4,
   "metadata": {},
   "outputs": [],
   "source": [
    "ans = 'ПРОФЕССОРСКИЙ ТУПИК 52'"
   ]
  },
  {
   "cell_type": "code",
   "execution_count": 6,
   "metadata": {},
   "outputs": [
    {
     "data": {
      "text/plain": [
       "65"
      ]
     },
     "execution_count": 6,
     "metadata": {},
     "output_type": "execute_result"
    }
   ],
   "source": [
    "ord('A')"
   ]
  },
  {
   "cell_type": "code",
   "execution_count": 8,
   "metadata": {},
   "outputs": [
    {
     "data": {
      "text/plain": [
       "90"
      ]
     },
     "execution_count": 8,
     "metadata": {},
     "output_type": "execute_result"
    }
   ],
   "source": [
    "ord('Z')"
   ]
  },
  {
   "cell_type": "code",
   "execution_count": 9,
   "metadata": {},
   "outputs": [],
   "source": [
    "def decoder_eng(text): # decode numbers seqs\n",
    "    res = [] # result of decoding will be written here\n",
    "    for elem in text: # \"text is digit sequence, encoded\"\n",
    "        res.append(chr(int(elem) + 64)) # append corresponding eng letter\n",
    "    print(res)"
   ]
  },
  {
   "cell_type": "code",
   "execution_count": 10,
   "metadata": {},
   "outputs": [
    {
     "name": "stdout",
     "output_type": "stream",
     "text": [
      "['Q', 'R', 'P', 'V', 'F', 'S', 'S', 'P', 'R', 'S', 'L', 'J', 'K', 'T', 'U', 'Q', 'J', 'L', 'E', 'B']\n"
     ]
    }
   ],
   "source": [
    "decoder_eng(text)"
   ]
  }
 ],
 "metadata": {
  "kernelspec": {
   "display_name": "Python 3",
   "language": "python",
   "name": "python3"
  },
  "language_info": {
   "codemirror_mode": {
    "name": "ipython",
    "version": 3
   },
   "file_extension": ".py",
   "mimetype": "text/x-python",
   "name": "python",
   "nbconvert_exporter": "python",
   "pygments_lexer": "ipython3",
   "version": "3.7.3"
  }
 },
 "nbformat": 4,
 "nbformat_minor": 1
}
