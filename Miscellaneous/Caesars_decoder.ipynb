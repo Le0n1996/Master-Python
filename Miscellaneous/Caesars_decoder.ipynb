{
 "cells": [
  {
   "cell_type": "code",
   "execution_count": 51,
   "metadata": {},
   "outputs": [],
   "source": [
    "import pandas as pd\n",
    "import re"
   ]
  },
  {
   "cell_type": "code",
   "execution_count": 44,
   "metadata": {},
   "outputs": [],
   "source": [
    "def decoder_ces(code, k): #decode seqs of eng letters\n",
    "    res = ''\n",
    "    for i in range(len(code)):\n",
    "        if code[i] != ' ':\n",
    "            res += chr(((ord(code[i]) - 64) + k) % 26 + 65)\n",
    "        #else:\n",
    "            #res += ' '\n",
    "    print(res)"
   ]
  },
  {
   "cell_type": "code",
   "execution_count": null,
   "metadata": {},
   "outputs": [],
   "source": [
    "text = input()\n",
    "letters_only = re.sub(' ', '', text)\n",
    "lst = list(text)"
   ]
  },
  {
   "cell_type": "code",
   "execution_count": 58,
   "metadata": {},
   "outputs": [],
   "source": [
    "freqs = pd.Series(list(letters_only)).value_counts(ascending=False).to_frame()"
   ]
  },
  {
   "cell_type": "code",
   "execution_count": 88,
   "metadata": {},
   "outputs": [
    {
     "name": "stdout",
     "output_type": "stream",
     "text": [
      "JXUIUQHUDJJXUTHEYTIOEKHUBEEAYDWVEH\n",
      "THESEARENTTHEDROIDSYOURELOOKINGFOR\n",
      "GURFRNERAGGURQEBVQFLBHERYBBXVATSBE\n"
     ]
    }
   ],
   "source": [
    "for i in range(3):\n",
    "    most_freq_let = freqs.head()[0].index[i]\n",
    "    password = (ord('E') - ord(most_freq_let) - 1) % 26\n",
    "    decoder_ces(lst, k=password)"
   ]
  }
 ],
 "metadata": {
  "kernelspec": {
   "display_name": "Python 3",
   "language": "python",
   "name": "python3"
  },
  "language_info": {
   "codemirror_mode": {
    "name": "ipython",
    "version": 3
   },
   "file_extension": ".py",
   "mimetype": "text/x-python",
   "name": "python",
   "nbconvert_exporter": "python",
   "pygments_lexer": "ipython3",
   "version": "3.7.3"
  }
 },
 "nbformat": 4,
 "nbformat_minor": 2
}
